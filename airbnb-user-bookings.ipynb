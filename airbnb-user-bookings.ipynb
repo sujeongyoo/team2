{
 "cells": [
  {
   "cell_type": "code",
   "execution_count": null,
   "metadata": {},
   "outputs": [],
   "source": [
    "# Imports\n",
    "\n",
    "# pandas\n",
    "import pandas as pd\n",
    "from pandas import Series,DataFrame\n",
    "\n",
    "# numpy, matplotlib, seaborn\n",
    "import numpy as np\n",
    "import matplotlib.pyplot as plt\n",
    "import seaborn as sns\n",
    "sns.set_style('whitegrid')\n",
    "%matplotlib inline\n",
    "\n",
    "# machine learning\n",
    "from sklearn.linear_model import LogisticRegression\n",
    "from sklearn.svm import SVC, LinearSVC\n",
    "from sklearn.ensemble import RandomForestClassifier\n",
    "from sklearn.neighbors import KNeighborsClassifier\n",
    "from sklearn.naive_bayes import GaussianNB\n",
    "from sklearn import cross_validation\n",
    "import xgboost as xgb"
   ]
  },
  {
   "cell_type": "code",
   "execution_count": null,
   "metadata": {},
   "outputs": [],
   "source": [
    "# get airbnb & test csv files as a DataFrame\n",
    "airbnb_df  = pd.read_csv('../input/train_users.csv')\n",
    "test_df    = pd.read_csv('../input/test_users.csv')\n",
    "\n",
    "# preview the data\n",
    "airbnb_df.head()"
   ]
  },
  {
   "cell_type": "code",
   "execution_count": null,
   "metadata": {},
   "outputs": [],
   "source": [
    "airbnb_df.info()\n",
    "print(\"----------------------------\")\n",
    "test_df.info()"
   ]
  },
  {
   "cell_type": "code",
   "execution_count": null,
   "metadata": {},
   "outputs": [],
   "source": [
    "# drop unnecessary columns, these columns won't be useful in analysis and prediction\n",
    "airbnb_df  = airbnb_df.drop(['date_account_created','timestamp_first_active'], axis=1)\n",
    "test_df    = test_df.drop(['date_account_created','timestamp_first_active'], axis=1)"
   ]
  },
  {
   "cell_type": "code",
   "execution_count": null,
   "metadata": {},
   "outputs": [],
   "source": [
    "# country_destination\n",
    "\n",
    "airbnb_df['booked'] = (airbnb_df['country_destination'] != 'NDF').astype(int)\n",
    "# test_df['booked']   = (test_df['country_destination'] != 'NDF').astype(int)\n",
    "\n",
    "# Plot the frequency for every country_destination value\n",
    "fig, (axis1) = plt.subplots(1,1,figsize=(15,5))\n",
    "sns.countplot(x='country_destination', data=airbnb_df, palette=\"husl\", ax=axis1)"
   ]
  },
  {
   "cell_type": "code",
   "execution_count": null,
   "metadata": {},
   "outputs": [],
   "source": [
    "# date_first_booking\n",
    "\n",
    "def get_year(date):\n",
    "    if date == date: \n",
    "        return int(str(date)[:4])\n",
    "    return date\n",
    "\n",
    "def get_month(date):\n",
    "    if date == date: \n",
    "        return int(str(date)[5:7])\n",
    "    return date\n",
    "\n",
    "# Create Year and Month columns\n",
    "airbnb_df['Year']  = airbnb_df['date_first_booking'].apply(get_year)\n",
    "airbnb_df['Month'] = airbnb_df['date_first_booking'].apply(get_month)\n",
    "\n",
    "test_df['Year']  = test_df['date_first_booking'].apply(get_year)\n",
    "test_df['Month'] = test_df['date_first_booking'].apply(get_month)\n",
    "\n",
    "# fill NaN\n",
    "airbnb_df['Year'].fillna(airbnb_df['Year'].median(), inplace=True)\n",
    "airbnb_df['Month'].fillna(airbnb_df['Month'].median(), inplace=True)\n",
    "\n",
    "test_df['Year'].fillna(test_df['Year'].median(), inplace=True)\n",
    "test_df['Month'].fillna(test_df['Month'].median(), inplace=True)\n",
    "\n",
    "# convert type to integer\n",
    "airbnb_df[['Year', 'Month']] = airbnb_df[['Year', 'Month']].astype(int)\n",
    "test_df[['Year', 'Month']]   = test_df[['Year', 'Month']].astype(int)\n",
    "\n",
    "# Plot\n",
    "fig, (axis1, axis2) = plt.subplots(2,1,sharex=True,figsize=(15,8))\n",
    "\n",
    "# frequency of country_destination for every year\n",
    "sns.countplot(x=\"Year\",hue=\"country_destination\", data=airbnb_df[airbnb_df['country_destination'] != 'NDF'], palette=\"husl\", ax=axis1)\n",
    "\n",
    "# frequency of booked Vs no-booking users for every year\n",
    "# NOTICE that in year 2014, and 2015 there wasn't \"no-booking\"\n",
    "sns.countplot(x=\"Year\",hue=\"booked\", data=airbnb_df, palette=\"husl\", order=[2010,2011,2012,2013,2014,2015], ax=axis2)\n",
    "\n",
    "# drop columns\n",
    "airbnb_df.drop(['date_first_booking','Month'], axis=1, inplace=True)\n",
    "test_df.drop(['date_first_booking','Month'], axis=1, inplace=True)"
   ]
  },
  {
   "cell_type": "code",
   "execution_count": null,
   "metadata": {},
   "outputs": [],
   "source": [
    "# gender\n",
    "\n",
    "i = 0\n",
    "def get_gender(gender):\n",
    "    global i\n",
    "    if gender != 'FEMALE' and gender != 'MALE':\n",
    "        return 'FEMALE' if(i % 2) else 'MALE'\n",
    "    i = i + 1\n",
    "    return gender\n",
    "\n",
    "# replace all values other than 'FEMALE' and 'MALE'\n",
    "airbnb_df['gender'] = airbnb_df['gender'].apply(get_gender)\n",
    "test_df['gender']   = test_df['gender'].apply(get_gender)\n",
    "\n",
    "# Plot\n",
    "fig, (axis1, axis2) = plt.subplots(2,1,sharex=True,figsize=(15,8))\n",
    "\n",
    "# frequency of country_destination for every gender\n",
    "sns.countplot(x=\"gender\",hue=\"country_destination\", data=airbnb_df[airbnb_df['country_destination'] != 'NDF'], palette=\"husl\", ax=axis1)\n",
    "\n",
    "# frequency of booked Vs no-booking users for every gender\n",
    "sns.countplot(x=\"gender\",hue=\"booked\", data=airbnb_df, palette=\"husl\", ax=axis2)\n",
    "\n",
    "# Map gender values to 1s and 0s\n",
    "airbnb_df[\"gender\"] = airbnb_df[\"gender\"].map({\"FEMALE\": 1, \"MALE\": 0})\n",
    "test_df[\"gender\"]   = test_df[\"gender\"].map({\"FEMALE\": 1, \"MALE\": 0})\n",
    "\n",
    "# drop columns\n",
    "airbnb_df.drop(['gender'], axis=1,inplace=True)\n",
    "test_df.drop(['gender'], axis=1,inplace=True)"
   ]
  },
  {
   "cell_type": "code",
   "execution_count": null,
   "metadata": {},
   "outputs": [],
   "source": [
    "# age\n",
    "\n",
    "# assign all age values > 100 to NaN, these NaN values will be replaced with real ages below\n",
    "airbnb_df[\"age\"][airbnb_df[\"age\"] > 100] = np.NaN\n",
    "test_df[\"age\"][test_df[\"age\"] > 100]     = np.NaN\n",
    "\n",
    "# get average, std, and number of NaN values in airbnb_df\n",
    "average_age_airbnb   = airbnb_df[\"age\"].mean()\n",
    "std_age_airbnb       = airbnb_df[\"age\"].std()\n",
    "count_nan_age_airbnb = airbnb_df[\"age\"].isnull().sum()\n",
    "\n",
    "# get average, std, and number of NaN values in test_df\n",
    "average_age_test   = test_df[\"age\"].mean()\n",
    "std_age_test       = test_df[\"age\"].std()\n",
    "count_nan_age_test = test_df[\"age\"].isnull().sum()\n",
    "\n",
    "# generate random numbers between (mean - std) & (mean + std)\n",
    "rand_1 = np.random.randint(average_age_airbnb - std_age_airbnb, average_age_airbnb + std_age_airbnb, size = count_nan_age_airbnb)\n",
    "rand_2 = np.random.randint(average_age_test - std_age_test, average_age_test + std_age_test, size = count_nan_age_test)\n",
    "\n",
    "# fill NaN values in Age column with random values generated\n",
    "airbnb_df[\"age\"][np.isnan(airbnb_df[\"age\"])] = rand_1\n",
    "test_df[\"age\"][np.isnan(test_df[\"age\"])]     = rand_2\n",
    "\n",
    "# convert type to integer\n",
    "airbnb_df['age'] = airbnb_df['age'].astype(int)\n",
    "test_df['age']   = test_df['age'].astype(int)"
   ]
  },
  {
   "cell_type": "code",
   "execution_count": null,
   "metadata": {},
   "outputs": [],
   "source": [
    "# .... continue with age\n",
    "\n",
    "# Plot\n",
    "fig, (axis1, axis2) = plt.subplots(2,1,figsize=(15,10))\n",
    "\n",
    "# frequency for age values(in case there was a booking)\n",
    "airbnb_df['age'][airbnb_df['country_destination'] != 'NDF'].hist(ax=axis1)\n",
    "\n",
    "# cut age values into ranges \n",
    "airbnb_df['age_range'] = pd.cut(airbnb_df[\"age\"], [0, 20, 40, 60, 80, 100])\n",
    "\n",
    "# frequency of country_destination for every age range\n",
    "sns.countplot(x=\"age_range\",hue=\"country_destination\", data=airbnb_df[airbnb_df['country_destination'] != 'NDF'], palette=\"husl\", ax=axis2)\n",
    "\n",
    "# drop age_range\n",
    "airbnb_df.drop(['age_range'], axis=1, inplace=True)\n",
    "\n",
    "# drop columns\n",
    "airbnb_df.drop(['age'], axis=1,inplace=True)\n",
    "test_df.drop(['age'], axis=1,inplace=True)"
   ]
  },
  {
   "cell_type": "code",
   "execution_count": null,
   "metadata": {},
   "outputs": [],
   "source": [
    "# first_affiliate_tracked\n",
    "\n",
    "# fill NaN values randomly\n",
    "count_first_affiliate = 7    # len(np.unique(airbnb_df[\"first_affiliate_tracked\"].value_counts()))\n",
    "\n",
    "count_nan_department_airbnb = airbnb_df[\"first_affiliate_tracked\"].isnull().sum()\n",
    "count_nan_department_test   = test_df[\"first_affiliate_tracked\"].isnull().sum()\n",
    "\n",
    "rand_1 = np.random.randint(0, count_first_affiliate, size = count_nan_department_airbnb)\n",
    "rand_2 = np.random.randint(0, count_first_affiliate, size = count_nan_department_test)\n",
    "\n",
    "range_departments_airbnb = airbnb_df['first_affiliate_tracked'].value_counts().index\n",
    "range_departments_test   = test_df['first_affiliate_tracked'].value_counts().index\n",
    "\n",
    "airbnb_df[\"first_affiliate_tracked\"][airbnb_df[\"first_affiliate_tracked\"] != airbnb_df[\"first_affiliate_tracked\"]] = range_departments_airbnb[rand_1]\n",
    "test_df[\"first_affiliate_tracked\"][test_df[\"first_affiliate_tracked\"] != test_df[\"first_affiliate_tracked\"]]       = range_departments_test[rand_2]\n",
    "\n",
    "# drop columns\n",
    "# airbnb_df.drop(['first_affiliate_tracked'], axis=1,inplace=True)\n",
    "# test_df.drop(['first_affiliate_tracked'], axis=1,inplace=True)"
   ]
  },
  {
   "cell_type": "code",
   "execution_count": null,
   "metadata": {},
   "outputs": [],
   "source": [
    "# signup_method\n",
    "airbnb_df[\"signup_method\"] = (airbnb_df[\"signup_method\"] == \"basic\").astype(int)\n",
    "test_df[\"signup_method\"]   = (test_df[\"signup_method\"] == \"basic\").astype(int)\n",
    "\n",
    "# signup_flow\n",
    "airbnb_df[\"signup_flow\"] = (airbnb_df[\"signup_flow\"] == 3).astype(int)\n",
    "test_df[\"signup_flow\"]   = (test_df[\"signup_flow\"] == 3).astype(int)\n",
    "\n",
    "# language\n",
    "airbnb_df[\"language\"] = (airbnb_df[\"language\"] == 'en').astype(int)\n",
    "test_df[\"language\"]   = (test_df[\"language\"] == 'en').astype(int)\n",
    "\n",
    "# affiliate_channel\n",
    "airbnb_df[\"affiliate_channel\"] = (airbnb_df[\"affiliate_channel\"] == 'direct').astype(int)\n",
    "test_df[\"affiliate_channel\"]   = (test_df[\"affiliate_channel\"] == 'direct').astype(int)\n",
    "\n",
    "# affiliate_provider\n",
    "airbnb_df[\"affiliate_provider\"] = (airbnb_df[\"affiliate_provider\"] == 'direct').astype(int)\n",
    "test_df[\"affiliate_provider\"]   = (test_df[\"affiliate_provider\"] == 'direct').astype(int)"
   ]
  },
  {
   "cell_type": "code",
   "execution_count": null,
   "metadata": {},
   "outputs": [],
   "source": [
    "# There are some columns with non-numerical values(i.e. dtype='object'),\n",
    "# So, We will create a corresponding unique numerical value for each non-numerical value in a column of training and testing set.\n",
    "\n",
    "from sklearn import preprocessing\n",
    "\n",
    "for f in airbnb_df.columns:\n",
    "    if f == \"country_destination\" or f == \"id\": continue\n",
    "    if airbnb_df[f].dtype == 'object':\n",
    "        lbl = preprocessing.LabelEncoder()\n",
    "        lbl.fit(np.unique(list(airbnb_df[f].values) + list(test_df[f].values)))\n",
    "        airbnb_df[f] = lbl.transform(list(airbnb_df[f].values))\n",
    "        test_df[f]   = lbl.transform(list(test_df[f].values))"
   ]
  },
  {
   "cell_type": "code",
   "execution_count": null,
   "metadata": {},
   "outputs": [],
   "source": [
    "# define training and testing sets\n",
    "\n",
    "X_train = airbnb_df.drop([\"country_destination\", \"id\", 'booked'],axis=1)\n",
    "Y_train = airbnb_df[\"country_destination\"]\n",
    "X_test  = test_df.drop(\"id\",axis=1).copy()"
   ]
  },
  {
   "cell_type": "code",
   "execution_count": null,
   "metadata": {},
   "outputs": [],
   "source": [
    "# modify country_destination to numerical values\n",
    "\n",
    "country_num_dic = {'NDF': 0, 'US': 1, 'other': 2, 'FR': 3, 'IT': 4, 'GB': 5, 'ES': 6, 'CA': 7, 'DE': 8, 'NL': 9, 'AU': 10, 'PT': 11}\n",
    "num_country_dic = {y:x for x,y in country_num_dic.items()}\n",
    "\n",
    "Y_train    = Y_train.map(country_num_dic)"
   ]
  },
  {
   "cell_type": "code",
   "execution_count": null,
   "metadata": {},
   "outputs": [],
   "source": [
    "# Random Forests\n",
    "\n",
    "# random_forest = RandomForestClassifier(n_estimators=100)\n",
    "\n",
    "# random_forest.fit(X_train, Y_train)\n",
    "\n",
    "# Y_pred = random_forest.predict(X_test)\n",
    "\n",
    "# random_forest.score(X_train, Y_train)"
   ]
  },
  {
   "cell_type": "code",
   "execution_count": null,
   "metadata": {},
   "outputs": [],
   "source": [
    "# Xgboost \n",
    "\n",
    "params = {\"objective\": \"multi:softmax\", \"num_class\": 12}\n",
    "\n",
    "T_train_xgb = xgb.DMatrix(X_train, Y_train)\n",
    "X_test_xgb  = xgb.DMatrix(X_test)\n",
    "\n",
    "gbm = xgb.train(params, T_train_xgb, 20)\n",
    "Y_pred = gbm.predict(X_test_xgb)"
   ]
  },
  {
   "cell_type": "code",
   "execution_count": null,
   "metadata": {},
   "outputs": [],
   "source": [
    "# convert type to integer\n",
    "Y_pred = Y_pred.astype(int)\n",
    "\n",
    "# change values back to original country symbols\n",
    "Y_pred = Series(Y_pred).map(num_country_dic)"
   ]
  },
  {
   "cell_type": "code",
   "execution_count": null,
   "metadata": {},
   "outputs": [],
   "source": [
    "# Create submission\n",
    "\n",
    "country_df = pd.DataFrame({\n",
    "        \"id\": test_df[\"id\"],\n",
    "        \"country\": Y_pred\n",
    "    })\n",
    "\n",
    "submission = DataFrame(columns=[\"id\", \"country\"])\n",
    "\n",
    "# sort countries according to most probable destination country \n",
    "for key in country_df['country'].value_counts().index:\n",
    "    submission = pd.concat([submission, country_df[country_df[\"country\"] == key]], ignore_index=True)\n",
    "\n",
    "submission.to_csv('airbnb.csv', index=False)"
   ]
  }
 ],
 "metadata": {
  "kernelspec": {
   "display_name": "Python 3",
   "language": "python",
   "name": "python3"
  },
  "language_info": {
   "codemirror_mode": {
    "name": "ipython",
    "version": 3
   },
   "file_extension": ".py",
   "mimetype": "text/x-python",
   "name": "python",
   "nbconvert_exporter": "python",
   "pygments_lexer": "ipython3",
   "version": "3.6.5"
  }
 },
 "nbformat": 4,
 "nbformat_minor": 1
}
