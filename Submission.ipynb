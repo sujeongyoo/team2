{
 "cells": [
  {
   "cell_type": "code",
   "execution_count": null,
   "metadata": {},
   "outputs": [],
   "source": [
    "X_test=xgb.DMatrix(X_test) #Dmatrix 변환 오류시 주석처리\n",
    "id_test =test['id']\n",
    "y_pred = bst.predict(X_test)  \n",
    "#Taking the 5 classes with highest probabilities\n",
    "ids = []  #list of ids\n",
    "cts = []  #list of countries\n",
    "for i in range(len(id_test)):\n",
    "    idx = id_test[i]\n",
    "    ids += [idx] * 5\n",
    "    cts += np.argsort(y_pred[i])[::-1][:5].tolist()\n",
    "\n",
    "#Generate submission\n",
    "country_label = pd.DataFrame(np.column_stack((ids, cts)), columns=['id', 'country'])\n",
    "result=pd.DataFrame(country_label['country'])\n",
    "country_label.drop(['country'], axis=1, inplace=True)\n",
    "result=result['country'].astype(int)\n",
    "inv_mapping= {0:'NDF', 1:'US', 2:'other', 3:'FR', 4:'CA', 5:'GB', 6:'ES', 7:'IT', 8:'PT', 9:'NL', 10:'DE', 11:'AU'}\n",
    "result=result.map(inv_mapping)\n",
    "country_label['country']=result\n",
    "country_label.to_csv('Submission.csv', encoding='utf-8')"
   ]
  }
 ],
 "metadata": {
  "kernelspec": {
   "display_name": "Python 3",
   "language": "python",
   "name": "python3"
  },
  "language_info": {
   "codemirror_mode": {
    "name": "ipython",
    "version": 3
   },
   "file_extension": ".py",
   "mimetype": "text/x-python",
   "name": "python",
   "nbconvert_exporter": "python",
   "pygments_lexer": "ipython3",
   "version": "3.6.5"
  }
 },
 "nbformat": 4,
 "nbformat_minor": 2
}
